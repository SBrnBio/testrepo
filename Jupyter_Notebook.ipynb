{
 "cells": [
  {
   "cell_type": "markdown",
   "metadata": {},
   "source": [
    "<center>\n",
    "    <img src=\"https://cf-courses-data.s3.us.cloud-object-storage.appdomain.cloud/IBMDeveloperSkillsNetwork-DS0105EN-SkillsNetwork/labs/Module2/images/SN_web_lightmode.png\" width=\"300\" alt=\"cognitiveclass.ai logo\">\n",
    "</center>\n"
   ]
  },
  {
   "cell_type": "markdown",
   "metadata": {},
   "source": [
    "#### Add your code below following the instructions given in the course\n"
   ]
  },
  {
   "cell_type": "markdown",
   "metadata": {},
   "source": [
    "# My Jupyter Notebook on IBM Watson Studio"
   ]
  },
  {
   "cell_type": "markdown",
   "metadata": {},
   "source": [
    "__Seth Boren__"
   ]
  },
  {
   "cell_type": "markdown",
   "metadata": {},
   "source": [
    " _I want to build neural networks for predicting stroke recovery!_"
   ]
  },
  {
   "cell_type": "markdown",
   "metadata": {},
   "source": [
    "### The code in cell 5 will compute 1 + 1 = 2"
   ]
  },
  {
   "cell_type": "code",
   "execution_count": 4,
   "metadata": {},
   "outputs": [
    {
     "data": {
      "text/plain": [
       "2"
      ]
     },
     "execution_count": 4,
     "metadata": {},
     "output_type": "execute_result"
    }
   ],
   "source": [
    "1 + 1"
   ]
  },
  {
   "cell_type": "markdown",
   "metadata": {},
   "source": [
    "* Bullet List Item 01\n",
    "\n",
    "* Bullet List Item 02\n",
    "\n",
    "* Bullet List Item 03\n",
    "\n",
    "1. Numbered List Item 01\n",
    "\n",
    "2. Numbered List Item 02\n",
    "\n",
    "3. Numbered List Item 03\n",
    "\n",
    "| Column 01 | Column 02 | Column 03 | Column 04 | Column 05 |\n",
    "\n",
    "|-----------|-----------|-----------|-----------|-----------|\n",
    "\n",
    "| Cell 11 | Cell 12 | Cell 13 | Cell 14 | Cell 15 |\n",
    "\n",
    "| Cell 21 | Cell 22 | Cell 23 | Cell 24 | Cell 25 |"
   ]
  },
  {
   "cell_type": "code",
   "execution_count": null,
   "metadata": {},
   "outputs": [],
   "source": [
    "* Bullet List Item 01\n",
    "\n",
    "* Bullet List Item 02\n",
    "\n",
    "* Bullet List Item 03\n",
    "\n",
    "1. Numbered List Item 01\n",
    "\n",
    "2. Numbered List Item 02\n",
    "\n",
    "3. Numbered List Item 03\n",
    "\n",
    "~~Strike List Item 01 ~~\n",
    "~~Strike List~~\n",
    "~~Strike~~"
   ]
  }
 ],
 "metadata": {
  "kernelspec": {
   "display_name": "Python",
   "language": "python",
   "name": "conda-env-python-py"
  },
  "language_info": {
   "codemirror_mode": {
    "name": "ipython",
    "version": 3
   },
   "file_extension": ".py",
   "mimetype": "text/x-python",
   "name": "python",
   "nbconvert_exporter": "python",
   "pygments_lexer": "ipython3",
   "version": "3.7.12"
  }
 },
 "nbformat": 4,
 "nbformat_minor": 4
}
